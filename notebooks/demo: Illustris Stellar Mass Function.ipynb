{
 "cells": [
  {
   "cell_type": "code",
   "execution_count": 2,
   "metadata": {},
   "outputs": [],
   "source": [
    "from typing import List\n",
    "import re\n",
    "\n",
    "import numpy as np\n",
    "from matplotlib import pyplot as plt\n",
    "import matplotlib\n",
    "\n",
    "# include the path to the parent directory\n",
    "\n",
    "import sys\n",
    "sys.path.append('../')\n",
    "\n",
    "from mfgpflow.data_loader import StellarMassFunctions\n",
    "\n",
    "# set a random number seed to reproducibility\n",
    "np.random.seed(0)"
   ]
  },
  {
   "cell_type": "markdown",
   "metadata": {},
   "source": [
    "# Calibrate CAMELS Hydro-sim-code-calibration Emulator\n",
    "\n",
    "Here we try to find the mapping from one simulation code to another, on the summary statistics level.\n",
    "\n",
    "Let's try the matter power spectrum level first. And then move to Bispectrum.\n",
    "\n",
    "- AR1: Linear multi-fidelity emulator from [Kennedy M., O’Hagan A., 2000, ](https://academic.oup.com/biomet/article-pdf/87/1/1/590577/870001.pdf)\n",
    "- NARGP: Non-linear multi-fidelity emulator from Perdikaris P., Raissi M., Damianou A., Lawrence N. D., Karniadakis G. E., 2017, Proc. R. Soc. A., 473\n",
    "\n",
    "- 50LR-3HR emulator: an emulator trained on 50 LR simulations and 3 HR simulations.\n",
    "\n",
    "Data from Public Release of CAMELS.\n"
   ]
  },
  {
   "cell_type": "code",
   "execution_count": 5,
   "metadata": {},
   "outputs": [],
   "source": [
    "def generate_data(folder: str = \"../data/illustris/illustris-5-8/1004_LR_7_HR_test0/\"):\n",
    "    data = StellarMassFunctions(folder=folder)\n",
    "    return data\n",
    "\n",
    "base_folder = \"../data/illustris/illustris-5-8-log1p/1004_LR_7_HR_test4/\"\n",
    "data = generate_data(base_folder)"
   ]
  },
  {
   "cell_type": "code",
   "execution_count": null,
   "metadata": {},
   "outputs": [],
   "source": [
    "log10_mass_bins = np.array(\n",
    "            [8.15, 8.45, 8.75, 9.05, 9.35, 9.65, 9.95, 10.25, 10.55, 10.85]\n",
    "        )"
   ]
  },
  {
   "cell_type": "code",
   "execution_count": null,
   "metadata": {},
   "outputs": [
    {
     "data": {
      "text/plain": [
       "(1004, 6)"
      ]
     },
     "execution_count": 9,
     "metadata": {},
     "output_type": "execute_result"
    }
   ],
   "source": [
    "# visualize training spectra\n",
    "for i, y_train in enumerate(data.Y_train[0]):\n",
    "    if i == 0:\n",
    "        plt.plot(y_train, label=\"low-fidelity\", color=\"C0\", ls=\"--\", alpha=0.3)\n",
    "    else:\n",
    "        plt.plot(y_train, color=\"C0\", ls=\"--\", alpha=0.3)\n",
    "for i, y_train in enumerate(data.Y_train[1]):\n",
    "    if i == 0:\n",
    "        plt.plot(y_train, label=\"high-fidelity\", color=\"C1\")\n",
    "    else:\n",
    "        plt.plot(y_train, color=\"C1\")\n",
    "plt.legend()\n",
    "# plt.xlabel(r\"$k (h/\\mathrm{Mpc})$\")\n",
    "plt.ylabel(r\"$SMF$\")"
   ]
  }
 ],
 "metadata": {
  "kernelspec": {
   "display_name": "Python 3",
   "language": "python",
   "name": "python3"
  },
  "language_info": {
   "codemirror_mode": {
    "name": "ipython",
    "version": 3
   },
   "file_extension": ".py",
   "mimetype": "text/x-python",
   "name": "python",
   "nbconvert_exporter": "python",
   "pygments_lexer": "ipython3",
   "version": "3.9.0"
  }
 },
 "nbformat": 4,
 "nbformat_minor": 2
}
